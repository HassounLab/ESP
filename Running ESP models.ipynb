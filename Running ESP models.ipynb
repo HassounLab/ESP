{
 "cells": [
  {
   "cell_type": "markdown",
   "id": "dbdb2b25",
   "metadata": {},
   "source": [
    "## Data Preparation\n",
    "\n",
    "**data_trvate.py**: This script generates full dataset for training, validation, and test data. The generated file is `torch_trvate_\"+str(int(1000/hp['resolution']))+\"bin.pkl`\n",
    "\n",
    "To run the script, use the following command:\n",
    "```\n",
    "python data_trvate.py\n",
    "```\n",
    " \n",
    "\n",
    "**data_tecand.py**: This script generates files for the test candidate torchgeometric. The generated file is named `torch_tecand_'+str(int(1000/hp['resolution']))+\"bin_te_cand\"+str(hp['cand_size'])+'_torchgeometric.pkl`.\n",
    "\n",
    "To run the script, use the following command:\n",
    "\n",
    "```\n",
    "python data_trvate.py\n",
    "```\n",
    "\n",
    "**data_tecand.py**: This script generates files for the test candidate torchgeometric. The generated file is named `torch_tecand_'+str(int(1000/hp['resolution']))+\"bin_te_cand\"+str(hp['cand_size'])+'_torchgeometric.pkl`.\n",
    "\n",
    "To run the script, use the following command:\n",
    "\n",
    "\n",
    "```\n",
    "python data_tecand.py\n",
    "```\n",
    "\n",
    "\n",
    "## Model Training and Testing\n",
    "\n",
    "**train.py**: This script is used for training and restoring saved GNN and MLP models.\n",
    "\n",
    "**ens_train.py**: This script is used for training and restoring saved ESP models.\n",
    "\n",
    "To run the saved GNN model on a test set, set `--te_cand_dataset_suffix` to the desired test set and `--model_file_suffix` to the model which you wish to use.\n",
    "\n",
    "For example, if your test set is `torch_tecand_1000bin_te_cand100` and your pretrained model is `best_model_gnn_pd.pt`, you would use the following command:\n",
    "\n",
    "```\n",
    "python train.py --cuda 1 --model gnn --model_file_suffix gnn_pd --disable_two_step_pred --disable_fingerprint --disable_mt_fingerprint --disable_mt_ontology --correlation_mat_rank 100 --te_cand_dataset_suffix torch_tecand_1000bin_te_cand100\n",
    "```\n",
    "\n",
    "\n",
    "To run the saved GNN model on a test set, set `--te_cand_dataset_suffix` to the desired test set and `--model_file_suffix` to the model which you wish to use.\n",
    " \n",
    "For example, if your test set is `torch_tecand_1000bin_te_cand100` and your pretrained model is `best_model_mlp_pd.pt`, you would use the following command:\n",
    "\n",
    "```\n",
    "python train.py --cuda 1 --model mlp --model_file_suffix mlp_pd --disable_two_step_pred --disable_fingerprint --disable_mt_fingerprint --disable_mt_ontology --correlation_mat_rank 100 --te_cand_dataset_suffix torch_tecand_1000bin_te_cand100\n",
    "```\n",
    "\n",
    "To run a saved ESP model on a test set, set `--te_cand_dataset_suffix` to the desired test set,  `--ens_model_file_suffix` to the ESP which you wish to use, and `--mlp_model_file_suffix` and ` --gnn_model_file_suffix` to the pretrained MLP and GNN models, respectfully. \n",
    "\n",
    "For example, to run `ESP.pt` on `torch_tecand_1000bin_te_cand100` with MLP model `best_model_mlp_pd.pt` and GNN model `best_model_gnn_pd.pt`, use the following command:\n",
    "\n",
    "```\n",
    "python ens_train.py --disable_two_step_pred --disable_fingerprint --disable_mt_fingerprint --disable_mt_ontology --correlation_mat_rank 100 --mlp_model_file_suffix mlp_pd --gnn_model_file_suffix gnn_pd --ens_model_file_suffix ESP --cuda 1 --te_cand_dataset_suffix torch_tecand_1000bin_te_cand100\n",
    "```\n",
    "\n",
    "### Training New Models\n",
    "\n",
    "To train a new GNN or MLP model, set `--te_cand_dataset_suffix` to an empty string or don't call this argument. This will generate a file with parameters named `best_model_' + args.model_file_suffix + '.pt`.\n",
    "\n",
    "For example, to train a new GNN model, use the following command:\n",
    "\n",
    "```\n",
    "python train.py --cuda 1 --model gnn  --disable_two_step_pred --disable_fingerprint --disable_mt_fingerprint --disable_mt_ontology --correlation_mat_rank 100 --model_file_suffix gnn_XX\n",
    "```\n",
    "\n",
    "Before you train a new ESP model, you must have pretrained MLP and GNN models (see above instructions). To train a new ESP model, set `--te_cand_dataset_suffix` to an empty string or don't call this argument. `--ens_model_file_suffix` should start with `ESP`. This will generate a file with parameters named `args.ens_model_file_suffix + '.pt`:\n",
    "\n",
    "```\n",
    "python ens_train.py --disable_two_step_pred --disable_fingerprint --disable_mt_fingerprint --disable_mt_ontology --correlation_mat_rank 100 --mlp_model_file_suffix mlp_pd --gnn_model_file_suffix gnn_pd --ens_model_file_suffix ESP --cuda 1\n",
    "```"
   ]
  },
  {
   "cell_type": "markdown",
   "id": "05f3f7c7",
   "metadata": {},
   "source": [
    "# Demo below shows results of the NIST20 test data with 100 candidates."
   ]
  },
  {
   "cell_type": "markdown",
   "id": "65d5235d",
   "metadata": {},
   "source": [
    "## To run the pretrained MLP"
   ]
  },
  {
   "cell_type": "code",
   "execution_count": 1,
   "id": "ba378aaf",
   "metadata": {},
   "outputs": [
    {
     "name": "stdout",
     "output_type": "stream",
     "text": [
      "Namespace(cuda=1, model_file_suffix='mlp_pd', lr=0.0005, l2norm=0.0, drop_ratio=0.3, batch_size=128, epochs=50, hidden_dims=1024, num_hidden_layers=3, JK='last', graph_pooling='mean', model='mlp', disable_mt_lda=False, correlation_mat_rank=100, mt_lda_weight=0.01, correlation_mix_residual_weight=0.7, disable_two_step_pred=True, disable_reverse=False, disable_fingerprint=True, disable_mt_fingerprint=True, disable_mt_ontology=True, full_dataset=False, te_cand_dataset_suffix='torch_tecand_1000bin_te_cand100')\n",
      "100%|███████████████████████████████████████| 8151/8151 [03:52<00:00, 35.09it/s]\n",
      "Average rank 7.269 +- 23.395\n",
      "Rank at 1 0.592\n",
      "Rank at 2 0.705\n",
      "Rank at 3 0.756\n",
      "Rank at 4 0.789\n",
      "Rank at 5 0.815\n",
      "Rank at 6 0.833\n",
      "Rank at 7 0.848\n",
      "Rank at 8 0.859\n",
      "Rank at 9 0.868\n",
      "Rank at 10 0.878\n",
      "Rank at 11 0.887\n",
      "Rank at 12 0.892\n",
      "Rank at 13 0.898\n",
      "Rank at 14 0.904\n",
      "Rank at 15 0.907\n",
      "Rank at 16 0.910\n",
      "Rank at 17 0.914\n",
      "Rank at 18 0.917\n",
      "Rank at 19 0.921\n",
      "Rank at 20 0.923\n"
     ]
    }
   ],
   "source": [
    "!python train.py --model mlp --disable_two_step_pred --disable_fingerprint --disable_mt_fingerprint --disable_mt_ontology --correlation_mat_rank 100 --model_file_suffix mlp_pd --te_cand_dataset_suffix torch_tecand_1000bin_te_cand100 --cuda 1"
   ]
  },
  {
   "cell_type": "markdown",
   "id": "8c417072",
   "metadata": {},
   "source": [
    "## To run the pretrained GNN"
   ]
  },
  {
   "cell_type": "code",
   "execution_count": 2,
   "id": "dfc6d1f8",
   "metadata": {},
   "outputs": [
    {
     "name": "stdout",
     "output_type": "stream",
     "text": [
      "Namespace(cuda=1, model_file_suffix='gnn_pd', lr=0.0005, l2norm=0.0, drop_ratio=0.3, batch_size=128, epochs=50, hidden_dims=1024, num_hidden_layers=3, JK='last', graph_pooling='mean', model='gnn', disable_mt_lda=False, correlation_mat_rank=100, mt_lda_weight=0.01, correlation_mix_residual_weight=0.7, disable_two_step_pred=True, disable_reverse=False, disable_fingerprint=True, disable_mt_fingerprint=True, disable_mt_ontology=True, full_dataset=False, te_cand_dataset_suffix='torch_tecand_1000bin_te_cand100')\n",
      "100%|███████████████████████████████████████| 8151/8151 [05:09<00:00, 26.35it/s]\n",
      "Average rank 7.819 +- 25.453\n",
      "Rank at 1 0.506\n",
      "Rank at 2 0.652\n",
      "Rank at 3 0.729\n",
      "Rank at 4 0.767\n",
      "Rank at 5 0.793\n",
      "Rank at 6 0.815\n",
      "Rank at 7 0.834\n",
      "Rank at 8 0.848\n",
      "Rank at 9 0.861\n",
      "Rank at 10 0.871\n",
      "Rank at 11 0.881\n",
      "Rank at 12 0.888\n",
      "Rank at 13 0.896\n",
      "Rank at 14 0.901\n",
      "Rank at 15 0.907\n",
      "Rank at 16 0.910\n",
      "Rank at 17 0.914\n",
      "Rank at 18 0.919\n",
      "Rank at 19 0.921\n",
      "Rank at 20 0.924\n"
     ]
    }
   ],
   "source": [
    "!python train.py --model gnn --disable_two_step_pred --disable_fingerprint --disable_mt_fingerprint --disable_mt_ontology --correlation_mat_rank 100 --model_file_suffix gnn_pd --te_cand_dataset_suffix torch_tecand_1000bin_te_cand100 --cuda 1"
   ]
  },
  {
   "cell_type": "markdown",
   "id": "b9cfc9b3",
   "metadata": {},
   "source": [
    "## To run the pretrained ESP"
   ]
  },
  {
   "cell_type": "code",
   "execution_count": 3,
   "id": "01793ff4",
   "metadata": {},
   "outputs": [
    {
     "name": "stdout",
     "output_type": "stream",
     "text": [
      "Namespace(cuda=0, mlp_model_file_suffix='mlp_pd', gnn_model_file_suffix='gnn_pd', ens_model_file_suffix='ESP', lr=0.001, l2norm=0.0, drop_ratio=0.3, batch_size=128, epochs=100, hidden_dims=1024, num_hidden_layers=3, JK='last', graph_pooling='mean', disable_mt_lda=False, correlation_mat_rank=100, ensemble_hidden_dim=256, mt_lda_weight=0.01, mlp_correlation_mix_residual_weight=0.8, gnn_correlation_mix_residual_weight=0.7, disable_two_step_pred=True, disable_reverse=False, disable_fingerprint=True, disable_mt_fingerprint=True, disable_mt_ontology=True, train_with_test_ratio=-1, train_with_test_ratio_hist_size=-1, full_dataset=False, te_cand_dataset_suffix='torch_tecand_1000bin_te_cand100')\n",
      "100%|███████████████████████████████████████| 8151/8151 [05:48<00:00, 23.38it/s]\n",
      "Average rank 5.501 +- 19.434\n",
      "Rank at 1 0.620\n",
      "Rank at 2 0.745\n",
      "Rank at 3 0.799\n",
      "Rank at 4 0.832\n",
      "Rank at 5 0.854\n",
      "Rank at 6 0.870\n",
      "Rank at 7 0.882\n",
      "Rank at 8 0.892\n",
      "Rank at 9 0.904\n",
      "Rank at 10 0.912\n",
      "Rank at 11 0.916\n",
      "Rank at 12 0.921\n",
      "Rank at 13 0.925\n",
      "Rank at 14 0.929\n",
      "Rank at 15 0.932\n",
      "Rank at 16 0.936\n",
      "Rank at 17 0.939\n",
      "Rank at 18 0.941\n",
      "Rank at 19 0.944\n",
      "Rank at 20 0.947\n"
     ]
    }
   ],
   "source": [
    "!python ens_train.py --disable_two_step_pred --disable_fingerprint --disable_mt_fingerprint --disable_mt_ontology --correlation_mat_rank 100 --mlp_model_file_suffix mlp_pd --gnn_model_file_suffix gnn_pd --ens_model_file_suffix ESP --te_cand_dataset_suffix torch_tecand_1000bin_te_cand100"
   ]
  },
  {
   "cell_type": "code",
   "execution_count": null,
   "id": "3a721e68",
   "metadata": {},
   "outputs": [],
   "source": []
  }
 ],
 "metadata": {
  "kernelspec": {
   "display_name": "Python 3",
   "language": "python",
   "name": "python3"
  },
  "language_info": {
   "codemirror_mode": {
    "name": "ipython",
    "version": 3
   },
   "file_extension": ".py",
   "mimetype": "text/x-python",
   "name": "python",
   "nbconvert_exporter": "python",
   "pygments_lexer": "ipython3",
   "version": "3.11.7"
  }
 },
 "nbformat": 4,
 "nbformat_minor": 5
}
