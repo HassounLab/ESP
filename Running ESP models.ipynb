{
 "cells": [
  {
   "cell_type": "markdown",
   "id": "dbdb2b25",
   "metadata": {},
   "source": [
    "## Data Preparation\n",
    "\n",
    "**data_trvate.py**: This script generates full dataset for training, validation, and test data. The generated file is `torch_trvate_\"+str(int(1000/hp['resolution']))+\"bin.pkl`\n",
    "\n",
    "To run the script, use the following command:\n",
    "```\n",
    "python data_trvate.py\n",
    "```\n",
    " \n",
    "\n",
    "**data_tecand.py**: This script generates files for the test candidate torchgeometric. The generated file is named `torch_tecand_'+str(int(1000/hp['resolution']))+\"bin_te_cand\"+str(hp['cand_size'])+'_torchgeometric.pkl`.\n",
    "\n",
    "To run the script, use the following command:\n",
    "\n",
    "```\n",
    "python data_trvate.py\n",
    "```\n",
    "\n",
    "**data_tecand.py**: This script generates files for the test candidate torchgeometric. The generated file is named `torch_tecand_'+str(int(1000/hp['resolution']))+\"bin_te_cand\"+str(hp['cand_size'])+'_torchgeometric.pkl`.\n",
    "\n",
    "To run the script, use the following command:\n",
    "\n",
    "\n",
    "```\n",
    "python data_tecand.py\n",
    "```\n",
    "\n",
    "\n",
    "## Model Training and Testing\n",
    "\n",
    "**train.py**: This script is used for training and restoring saved GNN and MLP models.\n",
    "\n",
    "**ens_train.py**: This script is used for training and restoring saved ESP models.\n",
    "\n",
    "To run the saved GNN model on a test set, set `--te_cand_dataset_suffix` to the desired test set and `--model_file_suffix` to the model which you wish to use.\n",
    "\n",
    "For example, if your test set is `torch_tecand_1000bin_te_cand100` and your pretrained model is `best_model_gnn_pd.pt`, you would use the following command:\n",
    "\n",
    "```\n",
    "python train.py --cuda 1 --model gnn --model_file_suffix gnn_pd --disable_two_step_pred --disable_fingerprint --disable_mt_fingerprint --disable_mt_ontology --correlation_mat_rank 100 --te_cand_dataset_suffix torch_tecand_1000bin_te_cand100\n",
    "```\n",
    "\n",
    "\n",
    "To run the saved GNN model on a test set, set `--te_cand_dataset_suffix` to the desired test set and `--model_file_suffix` to the model which you wish to use.\n",
    " \n",
    "For example, if your test set is `torch_tecand_1000bin_te_cand100` and your pretrained model is `best_model_mlp_pd.pt`, you would use the following command:\n",
    "\n",
    "```\n",
    "python train.py --cuda 1 --model mlp --model_file_suffix mlp_pd --disable_two_step_pred --disable_fingerprint --disable_mt_fingerprint --disable_mt_ontology --correlation_mat_rank 100 --te_cand_dataset_suffix torch_tecand_1000bin_te_cand100\n",
    "```\n",
    "\n",
    "To run a saved ESP model on a test set, set `--te_cand_dataset_suffix` to the desired test set,  `--ens_model_file_suffix` to the ESP which you wish to use, and `--mlp_model_file_suffix` and ` --gnn_model_file_suffix` to the pretrained MLP and GNN models, respectfully. \n",
    "\n",
    "For example, to run `ESP.pt` on `torch_tecand_1000bin_te_cand100` with MLP model `best_model_mlp_pd.pt` and GNN model `best_model_gnn_pd.pt`, use the following command:\n",
    "\n",
    "```\n",
    "python ens_train.py --disable_two_step_pred --disable_fingerprint --disable_mt_fingerprint --disable_mt_ontology --correlation_mat_rank 100 --mlp_model_file_suffix mlp_pd --gnn_model_file_suffix gnn_pd --ens_model_file_suffix ESP --cuda 1 --te_cand_dataset_suffix torch_tecand_1000bin_te_cand100\n",
    "```\n",
    "\n",
    "### Training New Models\n",
    "\n",
    "To train a new GNN or MLP model, set `--te_cand_dataset_suffix` to an empty string or don't call this argument. This will generate a file with parameters named `best_model_' + args.model_file_suffix + '.pt`.\n",
    "\n",
    "For example, to train a new GNN model, use the following command:\n",
    "\n",
    "```\n",
    "python train.py --cuda 1 --model gnn  --disable_two_step_pred --disable_fingerprint --disable_mt_fingerprint --disable_mt_ontology --correlation_mat_rank 100 --model_file_suffix gnn_XX\n",
    "```\n",
    "\n",
    "Before you train a new ESP model, you must have pretrained MLP and GNN models (see above instructions). To train a new ESP model, set `--te_cand_dataset_suffix` to an empty string or don't call this argument. `--ens_model_file_suffix` should start with `ESP`. This will generate a file with parameters named `args.ens_model_file_suffix + '.pt`:\n",
    "\n",
    "```\n",
    "python ens_train.py --disable_two_step_pred --disable_fingerprint --disable_mt_fingerprint --disable_mt_ontology --correlation_mat_rank 100 --mlp_model_file_suffix mlp_pd --gnn_model_file_suffix gnn_pd --ens_model_file_suffix ESP --cuda 1\n",
    "```"
   ]
  },
  {
   "cell_type": "markdown",
   "id": "05f3f7c7",
   "metadata": {},
   "source": [
    "# Demo below shows results of the NIST20 test data with 100 candidates."
   ]
  },
  {
   "cell_type": "markdown",
   "id": "65d5235d",
   "metadata": {},
   "source": [
    "## To run the pretrained MLP"
   ]
  },
  {
   "cell_type": "code",
   "execution_count": null,
   "id": "ba378aaf",
   "metadata": {},
   "outputs": [],
   "source": [
    "python train.py --cuda 0 --model gnn --disable_two_step_pred --disable_fingerprint --disable_mt_fingerprint --disable_mt_ontology --disable_mt_ontology  --correlation_mat_rank 100 --model_file_suffix gnn_can --full_dataset"
   ]
  },
  {
   "cell_type": "markdown",
   "id": "8c417072",
   "metadata": {},
   "source": [
    "## To run the pretrained GNN"
   ]
  },
  {
   "cell_type": "code",
   "execution_count": null,
   "id": "dfc6d1f8",
   "metadata": {},
   "outputs": [],
   "source": [
    " python train.py --cuda 0 --model gnn --disable_two_step_pred --disable_fingerprint --disable_mt_fingerprint --disable_mt_ontology --disable_mt_ontology  --correlation_mat_rank 100 --model_file_suffix gnn_can --full_dataset"
   ]
  },
  {
   "cell_type": "markdown",
   "id": "b9cfc9b3",
   "metadata": {},
   "source": [
    "## To run the pretrained ESP"
   ]
  },
  {
   "cell_type": "code",
   "execution_count": null,
   "id": "01793ff4",
   "metadata": {},
   "outputs": [],
   "source": [
    "python ens_train_canopus.py --cuda 0 --disable_two_step_pred --disable_fingerprint --disable_mt_fingerprint --disable_mt_ontology --correlation_mat_rank 100 --full_dataset --mode 'canopus'"
   ]
  },
  {
   "cell_type": "code",
   "execution_count": null,
   "id": "3a721e68",
   "metadata": {},
   "outputs": [],
   "source": []
  }
 ],
 "metadata": {
  "kernelspec": {
   "display_name": "Python 3",
   "language": "python",
   "name": "python3"
  },
  "language_info": {
   "codemirror_mode": {
    "name": "ipython",
    "version": 3
   },
   "file_extension": ".py",
   "mimetype": "text/x-python",
   "name": "python",
   "nbconvert_exporter": "python",
   "pygments_lexer": "ipython3",
   "version": "3.11.7"
  }
 },
 "nbformat": 4,
 "nbformat_minor": 5
}
