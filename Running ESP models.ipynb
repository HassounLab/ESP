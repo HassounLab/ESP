{
 "cells": [
  {
   "cell_type": "markdown",
   "id": "dbdb2b25",
   "metadata": {},
   "source": [
    "## Data Preparation\n",
    "\n",
    "### data_trvate.py\n",
    "\n",
    "This script generates full dataset for training, validation, and test data. The generated file is `torch_trvate_\"+str(int(1000/hp['resolution']))+\"bin.pkl`\n",
    "\n",
    "To run:\n",
    "```bash\n",
    "python data_trvate.py\n",
    "```\n",
    " \n",
    "\n",
    "**data_tecand.py**: This script generates files for the test candidate torchgeometric. The generated file is named `torch_tecand_'+str(int(1000/hp['resolution']))+\"bin_te_cand\"+str(hp['cand_size'])+'_torchgeometric.pkl`.\n",
    "\n",
    "To run the script, use the following command:\n",
    "\n",
    "```\n",
    "python data_trvate.py\n",
    "```\n",
    "\n",
    "**data_tecand.py**: This script generates files for the test candidate torchgeometric. The generated file is named `torch_tecand_'+str(int(1000/hp['resolution']))+\"bin_te_cand\"+str(hp['cand_size'])+'_torchgeometric.pkl`.\n",
    "\n",
    "To run the script, use the following command:\n",
    "\n",
    "\n",
    "```\n",
    "python data_tecand.py\n",
    "```\n",
    "\n",
    "\n",
    "## Model Training\n",
    "\n",
    "**train.py**: This script is used for training and restoring saved GNN and MLP models.\n",
    "\n",
    "To run the saved GNN model by loading the file `best_model_gnn_e.pt`, use the following command:\n",
    "\n",
    "```\n",
    "python train.py --cuda 5 --model gnn --model_file_suffix gnn_e --disable_two_step_pred --disable_fingerprint --disable_mt_fingerprint --disable_mt_ontology --correlation_mat_rank 100\n",
    "```\n",
    "\n",
    "\n",
    "To run the saved MLP model by loading the file `best_model_mlp_e.pt`, use the following command:\n",
    "\n",
    "```\n",
    "python train.py --cuda 5 --model mlp --model_file_suffix mlp_e --disable_two_step_pred --disable_fingerprint --disable_mt_fingerprint --disable_mt_ontology --correlation_mat_rank 100\n",
    "```\n",
    "\n",
    "### Training New Models\n",
    "\n",
    "To train a new GNN or MLP model, remember to un-comment `train(epoch=args.epochs)`. This will generate a file with parameters named `best_model_' + args.model_file_suffix + '.pt`.\n",
    "\n",
    "For example, to train a new GNN model, use the following command:\n",
    "python train.py --cuda 5 --model gnn --disable_two_step_pred --disable_fingerprint --disable_mt_fingerprint --disable_mt_ontology --correlation_mat_rank 100 --model_file_suffix gnn_XX\n",
    "\n"
   ]
  },
  {
   "cell_type": "markdown",
   "id": "05f3f7c7",
   "metadata": {},
   "source": [
    "# Demo below shows results on 100 samples in the test data"
   ]
  },
  {
   "cell_type": "markdown",
   "id": "65d5235d",
   "metadata": {},
   "source": [
    "## To run the pretrained MLP"
   ]
  },
  {
   "cell_type": "code",
   "execution_count": 2,
   "id": "fd7267ee",
   "metadata": {},
   "outputs": [
    {
     "name": "stdout",
     "output_type": "stream",
     "text": [
      "Namespace(JK='last', batch_size=128, correlation_mat_rank=100, correlation_mix_residual_weight=0.7, cuda=5, disable_fingerprint=True, disable_mt_fingerprint=True, disable_mt_lda=False, disable_mt_ontology=True, disable_reverse=False, disable_two_step_pred=True, drop_ratio=0.3, epochs=50, full_dataset=False, graph_pooling='mean', hidden_dims=1024, l2norm=0.0, lr=0.0005, model='mlp', model_file_suffix='mlp_e', mt_lda_weight=0.01, num_hidden_layers=3)\n",
      "100%|█████████████████████████████████████████| 100/100 [00:05<00:00, 17.97it/s]\n",
      "Average rank 6.180 +- 14.371\n",
      "Rank at 1 0.560\n",
      "Rank at 2 0.710\n",
      "Rank at 3 0.760\n",
      "Rank at 4 0.770\n",
      "Rank at 5 0.790\n",
      "Rank at 6 0.810\n",
      "Rank at 7 0.820\n",
      "Rank at 8 0.830\n",
      "Rank at 9 0.860\n",
      "Rank at 10 0.870\n",
      "Rank at 11 0.870\n",
      "Rank at 12 0.880\n",
      "Rank at 13 0.900\n",
      "Rank at 14 0.910\n",
      "Rank at 15 0.920\n",
      "Rank at 16 0.920\n",
      "Rank at 17 0.920\n",
      "Rank at 18 0.920\n",
      "Rank at 19 0.920\n",
      "Rank at 20 0.920\n"
     ]
    }
   ],
   "source": [
    "!python train.py --cuda 5 --model mlp --model_file_suffix mlp_e --disable_two_step_pred --disable_fingerprint --disable_mt_fingerprint --disable_mt_ontology --correlation_mat_rank 100"
   ]
  },
  {
   "cell_type": "markdown",
   "id": "8c417072",
   "metadata": {},
   "source": [
    "## To run the pretrained GNN"
   ]
  },
  {
   "cell_type": "code",
   "execution_count": 3,
   "id": "d1defa19",
   "metadata": {},
   "outputs": [
    {
     "name": "stdout",
     "output_type": "stream",
     "text": [
      "Namespace(JK='last', batch_size=128, correlation_mat_rank=100, correlation_mix_residual_weight=0.7, cuda=0, disable_fingerprint=True, disable_mt_fingerprint=True, disable_mt_lda=False, disable_mt_ontology=True, disable_reverse=False, disable_two_step_pred=True, drop_ratio=0.3, epochs=50, full_dataset=False, graph_pooling='mean', hidden_dims=1024, l2norm=0.0, lr=0.0005, model='gnn', model_file_suffix='gnn_e', mt_lda_weight=0.01, num_hidden_layers=3)\n",
      "100%|█████████████████████████████████████████| 100/100 [01:50<00:00,  1.10s/it]\n",
      "Average rank 4.490 +- 8.877\n",
      "Rank at 1 0.500\n",
      "Rank at 2 0.610\n",
      "Rank at 3 0.670\n",
      "Rank at 4 0.730\n",
      "Rank at 5 0.750\n",
      "Rank at 6 0.790\n",
      "Rank at 7 0.860\n",
      "Rank at 8 0.900\n",
      "Rank at 9 0.930\n",
      "Rank at 10 0.950\n",
      "Rank at 11 0.950\n",
      "Rank at 12 0.950\n",
      "Rank at 13 0.950\n",
      "Rank at 14 0.970\n",
      "Rank at 15 0.970\n",
      "Rank at 16 0.970\n",
      "Rank at 17 0.970\n",
      "Rank at 18 0.970\n",
      "Rank at 19 0.970\n",
      "Rank at 20 0.970\n"
     ]
    }
   ],
   "source": [
    "!python train.py --model gnn --disable_two_step_pred --disable_fingerprint --disable_mt_fingerprint --disable_mt_ontology --correlation_mat_rank 100 --model_file_suffix gnn_e"
   ]
  },
  {
   "cell_type": "markdown",
   "id": "b9cfc9b3",
   "metadata": {},
   "source": [
    "## To run the pretrained ESP"
   ]
  },
  {
   "cell_type": "code",
   "execution_count": 6,
   "id": "5e05612d",
   "metadata": {},
   "outputs": [
    {
     "name": "stdout",
     "output_type": "stream",
     "text": [
      "Namespace(JK='last', batch_size=128, correlation_mat_rank=100, cuda=0, disable_fingerprint=True, disable_mt_fingerprint=True, disable_mt_lda=False, disable_mt_ontology=True, disable_reverse=False, disable_two_step_pred=True, drop_ratio=0.3, ensemble_hidden_dim=256, epochs=50, full_dataset=False, gnn_correlation_mix_residual_weight=0.7, gnn_model_file_suffix='gnn_e', graph_pooling='mean', hidden_dims=1024, l2norm=0.0, lr=0.001, mlp_correlation_mix_residual_weight=0.8, mlp_model_file_suffix='mlp_e', mt_lda_weight=0.01, num_hidden_layers=3, train_with_test_ratio=-1, train_with_test_ratio_hist_size=-1)\n",
      "cpu\n",
      "100%|█████████████████████████████████████████| 100/100 [01:49<00:00,  1.10s/it]\n",
      "Average rank 3.740 +- 6.435\n",
      "Rank at 1 0.520\n",
      "Rank at 2 0.630\n",
      "Rank at 3 0.700\n",
      "Rank at 4 0.820\n",
      "Rank at 5 0.860\n",
      "Rank at 6 0.910\n",
      "Rank at 7 0.910\n",
      "Rank at 8 0.930\n",
      "Rank at 9 0.950\n",
      "Rank at 10 0.950\n",
      "Rank at 11 0.950\n",
      "Rank at 12 0.950\n",
      "Rank at 13 0.950\n",
      "Rank at 14 0.950\n",
      "Rank at 15 0.950\n",
      "Rank at 16 0.950\n",
      "Rank at 17 0.950\n",
      "Rank at 18 0.950\n",
      "Rank at 19 0.960\n",
      "Rank at 20 0.960\n"
     ]
    }
   ],
   "source": [
    "!python ens_train.py --disable_two_step_pred --disable_fingerprint --disable_mt_fingerprint --disable_mt_ontology --correlation_mat_rank 100 --mlp_model_file_suffix mlp_e --gnn_model_file_suffix gnn_e\n"
   ]
  },
  {
   "cell_type": "code",
   "execution_count": null,
   "id": "cc864847",
   "metadata": {},
   "outputs": [],
   "source": []
  }
 ],
 "metadata": {
  "kernelspec": {
   "display_name": "Python 3",
   "language": "python",
   "name": "python3"
  },
  "language_info": {
   "codemirror_mode": {
    "name": "ipython",
    "version": 3
   },
   "file_extension": ".py",
   "mimetype": "text/x-python",
   "name": "python",
   "nbconvert_exporter": "python",
   "pygments_lexer": "ipython3",
   "version": "3.8.10"
  }
 },
 "nbformat": 4,
 "nbformat_minor": 5
}
